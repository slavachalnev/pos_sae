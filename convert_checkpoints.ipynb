{
 "cells": [
  {
   "cell_type": "code",
   "execution_count": 1,
   "metadata": {},
   "outputs": [
    {
     "name": "stderr",
     "output_type": "stream",
     "text": [
      "/Users/slava/fun/pos_sae/.venv/lib/python3.9/site-packages/tqdm/auto.py:21: TqdmWarning: IProgress not found. Please update jupyter and ipywidgets. See https://ipywidgets.readthedocs.io/en/stable/user_install.html\n",
      "  from .autonotebook import tqdm as notebook_tqdm\n"
     ]
    }
   ],
   "source": [
    "import os\n",
    "import json\n",
    "import torch\n",
    "import sae_training\n",
    "from dataclasses import dataclass, asdict\n",
    "\n",
    "from huggingface_hub import hf_hub_download"
   ]
  },
  {
   "cell_type": "code",
   "execution_count": 2,
   "metadata": {},
   "outputs": [],
   "source": [
    "os.makedirs(\"../converted_checkpoints\", exist_ok=True)\n",
    "\n",
    "os.makedirs(\"downloaded_checkpoints\", exist_ok=True)\n"
   ]
  },
  {
   "cell_type": "code",
   "execution_count": 3,
   "metadata": {},
   "outputs": [],
   "source": [
    "# layer = 5\n",
    "\n",
    "# name = f\"final_sparse_autoencoder_gpt2-small_blocks.{layer}.hook_resid_pre_24576.pt\"\n",
    "\n",
    "# # download the model\n",
    "# repo_id = \"jbloom/GPT2-Small-SAEs\"\n",
    "# path = hf_hub_download(repo_id, name, local_dir=\"downloaded_checkpoints\")\n",
    "\n",
    "# # path = f\"downloaded_checkpoints/{name}\"\n",
    "# to_save = f\"converted_checkpoints/{name}\"\n",
    "\n",
    "# os.makedirs(to_save, exist_ok=True)\n",
    "\n",
    "# loaded = torch.load(path, map_location=\"cpu\")\n",
    "\n",
    "# cfg = asdict(loaded['cfg'])\n",
    "# state_dict = loaded['state_dict']\n",
    "\n",
    "# # save model and cfg\n",
    "# torch.save(state_dict, f\"{to_save}/model.pt\")\n",
    "# json.dump(cfg, open(f\"{to_save}/cfg.json\", \"w\"), indent=2)\n",
    "\n",
    "\n"
   ]
  },
  {
   "cell_type": "code",
   "execution_count": 7,
   "metadata": {},
   "outputs": [
    {
     "name": "stdout",
     "output_type": "stream",
     "text": [
      "layer 0 already downloaded\n",
      "layer 1 already downloaded\n",
      "layer 2 already downloaded\n",
      "layer 3 already downloaded\n",
      "layer 4 already downloaded\n",
      "layer 5 already downloaded\n",
      "layer 6 already downloaded\n",
      "layer 7 already downloaded\n",
      "layer 8 already downloaded\n",
      "layer 9 already downloaded\n",
      "layer 10 already downloaded\n",
      "layer 11 already downloaded\n"
     ]
    }
   ],
   "source": [
    "\n",
    "def download_and_save(layer):\n",
    "    name = f\"final_sparse_autoencoder_gpt2-small_blocks.{layer}.hook_resid_pre_24576\"\n",
    "    to_save = f\"converted_checkpoints/{name}\"\n",
    "\n",
    "    if os.path.exists(f\"downloaded_checkpoints/{name}.pt\"):\n",
    "        print(f\"layer {layer} already downloaded\")\n",
    "        path = f\"downloaded_checkpoints/{name}.pt\"\n",
    "    else:\n",
    "        repo_id = \"jbloom/GPT2-Small-SAEs\"\n",
    "        path = hf_hub_download(repo_id, f\"{name}.pt\", local_dir=\"downloaded_checkpoints\")\n",
    "\n",
    "    os.makedirs(to_save, exist_ok=True)\n",
    "\n",
    "    loaded = torch.load(path, map_location=\"cpu\")\n",
    "\n",
    "    cfg = asdict(loaded['cfg'])\n",
    "    state_dict = loaded['state_dict']\n",
    "\n",
    "    # save model and cfg\n",
    "    torch.save(state_dict, f\"{to_save}/model.pt\")\n",
    "    json.dump(cfg, open(f\"{to_save}/cfg.json\", \"w\"), indent=2)\n",
    "\n",
    "\n",
    "for layer in range(0, 12):\n",
    "    download_and_save(layer)"
   ]
  },
  {
   "cell_type": "code",
   "execution_count": null,
   "metadata": {},
   "outputs": [],
   "source": []
  }
 ],
 "metadata": {
  "kernelspec": {
   "display_name": ".venv",
   "language": "python",
   "name": "python3"
  },
  "language_info": {
   "codemirror_mode": {
    "name": "ipython",
    "version": 3
   },
   "file_extension": ".py",
   "mimetype": "text/x-python",
   "name": "python",
   "nbconvert_exporter": "python",
   "pygments_lexer": "ipython3",
   "version": "3.9.12"
  }
 },
 "nbformat": 4,
 "nbformat_minor": 2
}
